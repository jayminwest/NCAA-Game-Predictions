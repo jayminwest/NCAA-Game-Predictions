{
 "cells": [
  {
   "cell_type": "markdown",
   "id": "ba2e0405",
   "metadata": {},
   "source": [
    "## NCAA Win Predictor Using Kenpom \n",
    "\n",
    "This program uses college basketball stats from kenpom to determine winners of selected matchups using machine learning"
   ]
  },
  {
   "cell_type": "code",
   "execution_count": 5,
   "id": "dc3dc478",
   "metadata": {},
   "outputs": [],
   "source": [
    "import kenpompy\n",
    "import kenpompy.summary as kp\n",
    "import kenpompy.team as kpt\n",
    "import pandas as pd\n",
    "from sklearn.naive_bayes import BernoulliNB\n",
    "from sklearn import tree\n",
    "from sklearn.datasets import make_regression\n",
    "from sklearn.ensemble import RandomForestClassifier\n",
    "from sklearn.metrics import accuracy_score\n",
    "import numpy as np\n",
    "import matplotlib.pyplot as plt\n",
    "import re\n",
    "import warnings\n",
    "warnings.filterwarnings('ignore')\n",
    "\n",
    "# For deep learning:\n",
    "from keras.models import Sequential\n",
    "from keras.layers import Dense\n",
    "from keras.wrappers.scikit_learn import KerasClassifier\n",
    "from sklearn.model_selection import cross_val_score\n",
    "from sklearn.preprocessing import LabelEncoder\n",
    "from sklearn.model_selection import StratifiedKFold"
   ]
  },
  {
   "cell_type": "code",
   "execution_count": 6,
   "id": "22dca47e",
   "metadata": {},
   "outputs": [],
   "source": [
    "# Logging into kenpom\n",
    "from kenpompy.utils import login\n",
    "browser = login(\"jayminwest@gmail.com\", \"G0mfnZags\")"
   ]
  },
  {
   "cell_type": "markdown",
   "id": "94ce5586",
   "metadata": {},
   "source": [
    "## Fetching all of the data being used. Putting the raw versions into csv's"
   ]
  },
  {
   "cell_type": "code",
   "execution_count": 7,
   "id": "3e212bee",
   "metadata": {},
   "outputs": [],
   "source": [
    "eff_stats = kp.get_efficiency(browser)\n",
    "four_factors = kp.get_fourfactors(browser)\n",
    "team_stats = kp.get_teamstats(browser)\n",
    "point_dist = kp.get_pointdist(browser)\n",
    "heights = kp.get_height(browser)\n",
    "player_stats = kp.get_playerstats(browser)"
   ]
  },
  {
   "cell_type": "code",
   "execution_count": 8,
   "id": "f78ac7f0",
   "metadata": {},
   "outputs": [],
   "source": [
    "eff_stats.to_csv(\"eff_stats.csv\")\n",
    "four_factors.to_csv(\"four_factors.csv\")\n",
    "team_stats.to_csv(\"team_stats.csv\")\n",
    "point_dist.to_csv(\"point_dist.csv\")\n",
    "heights.to_csv(\"hegihts.csv\")\n",
    "player_stats.to_csv(\"top_player_stats.csv\")"
   ]
  },
  {
   "cell_type": "markdown",
   "id": "c0271070",
   "metadata": {},
   "source": [
    "## Getting the teams ranked by kenpom (kenpom.com landing page)"
   ]
  },
  {
   "cell_type": "code",
   "execution_count": 9,
   "id": "23d2a9d7",
   "metadata": {},
   "outputs": [],
   "source": [
    "# Getting a list of all the teams and then only grabbing the first 100 for the sake of speed\n",
    "valid_teams = kpt.get_valid_teams(browser)\n",
    "# valid_teams = valid_teams[0:100]"
   ]
  },
  {
   "cell_type": "markdown",
   "id": "0f9062cd",
   "metadata": {},
   "source": [
    "## Cleaning the data"
   ]
  },
  {
   "cell_type": "code",
   "execution_count": 10,
   "id": "bc0bb6a9",
   "metadata": {},
   "outputs": [],
   "source": [
    "# Function to remove all of the columns that have \"rank\" cleans up the data\n",
    "def remove_rank_cols(df):\n",
    "    df = df[df.columns.drop(list(df.filter(regex='Rank')))]\n",
    "    df = df[df.columns.drop(list(df.filter(regex='Raw')))]\n",
    "    df = df[df.columns.drop(list(df.filter(regex='Conference')))]\n",
    "    return df\n",
    "\n",
    "eff_stats = remove_rank_cols(eff_stats)\n",
    "four_factors = remove_rank_cols(four_factors)\n",
    "team_stats = remove_rank_cols(team_stats)\n",
    "point_dist = remove_rank_cols(point_dist)"
   ]
  },
  {
   "cell_type": "code",
   "execution_count": 9,
   "id": "0dce9c36",
   "metadata": {},
   "outputs": [],
   "source": [
    "# Function to remove all of the teams that are not in valid_teams\n",
    "def remove_low_rank_teams(df):\n",
    "    df = df[df['Team'].isin(valid_teams)]\n",
    "    df = df.sort_values(by=\"Team\")\n",
    "    return df\n",
    "\n",
    "eff_stats = remove_low_rank_teams(eff_stats)\n",
    "four_factors = remove_low_rank_teams(four_factors)\n",
    "team_stats = remove_low_rank_teams(team_stats)\n",
    "point_dist = remove_low_rank_teams(point_dist)"
   ]
  },
  {
   "cell_type": "markdown",
   "id": "f5cab297",
   "metadata": {},
   "source": [
    "Creating a final dataset of just the top 100 teams with all of their stats"
   ]
  },
  {
   "cell_type": "code",
   "execution_count": 11,
   "id": "cc63bc46",
   "metadata": {},
   "outputs": [],
   "source": [
    "data = pd.merge(eff_stats, four_factors, on=\"Team\")\n",
    "data = pd.merge(data, team_stats, on=\"Team\")\n",
    "data = pd.merge(data, point_dist, on=\"Team\")"
   ]
  },
  {
   "cell_type": "code",
   "execution_count": 12,
   "id": "d5ce0482",
   "metadata": {},
   "outputs": [],
   "source": [
    "data.to_csv(\"full_stats.csv\")"
   ]
  },
  {
   "cell_type": "code",
   "execution_count": 13,
   "id": "daebf48d",
   "metadata": {},
   "outputs": [],
   "source": [
    "full_stats = data"
   ]
  },
  {
   "cell_type": "markdown",
   "id": "4a1874b9",
   "metadata": {},
   "source": [
    "## Using data to predict the outcome of team_name's games"
   ]
  },
  {
   "cell_type": "code",
   "execution_count": 14,
   "id": "08c8d436",
   "metadata": {},
   "outputs": [],
   "source": [
    "# Function to clean the schedule of a given team\n",
    "def clean_schedules(team_name):\n",
    "    # Uses 'data' data frame to compile a new dataframe that has all of the entered team name's stats with their opponents\n",
    "    schedule = kpt.get_schedule(browser, team_name)\n",
    "    \n",
    "    schedule.rename(columns={\"Opponent Name\":\"Opponent\"},inplace=True)\n",
    "    \n",
    "    opponents = schedule['Opponent']\n",
    "    results = schedule['Result']\n",
    "    \n",
    "    schedule = schedule.drop(columns='Date')\n",
    "#     schedule = schedule[(schedule.Opponent.str).isin(valid_teams)]\n",
    "    schedule = schedule[schedule['Opponent'].isin(valid_teams)]\n",
    "    schedule = schedule[schedule.Result.str.len() < 11]\n",
    "    schedule = schedule[schedule.Result != 'Result']\n",
    "    \n",
    "    schedule = schedule.reset_index()\n",
    "    \n",
    "    full_results = schedule['Result']\n",
    "\n",
    "    if len(full_results[0]) > 3:\n",
    "        results = []\n",
    "        team_scores = []\n",
    "        opp_scores = []\n",
    "        for i in range(len(full_results)):\n",
    "            full_results[i] = re.sub(\"\\s\", \"\", full_results[i])\n",
    "            full_results[i] = re.split(r\"[-,]\", full_results[i])\n",
    "            results.append(full_results[i][0])\n",
    "            team_scores.append(full_results[i][1])\n",
    "            opp_scores.append(full_results[i][2])\n",
    "       \n",
    "    main_team_stats = data[data['Team'] == team_name]\n",
    "    final_df = pd.DataFrame()\n",
    "    \n",
    "    # Filling first part of df with Gonzaga Stats\n",
    "    for item in opponents:\n",
    "        final_df = final_df.append(main_team_stats)\n",
    "           \n",
    "    # Creating opponent dataframe and filling it \n",
    "    opp_df = pd.DataFrame()\n",
    "    for opp in opponents:\n",
    "        # This if statement skips over lines in the data that do not show game data\n",
    "        if (opp in valid_teams):\n",
    "            opp_df = opp_df.append(data[data['Team'] == opp])\n",
    "    \n",
    "    #Writing and reading from a csv to reset the indecies\n",
    "    final_df.to_csv('clean_schedules_1.csv')\n",
    "    final_df = pd.read_csv('clean_schedules_1.csv')\n",
    "    opp_df.to_csv('clean_schedules_2.csv')\n",
    "    opp_df = pd.read_csv('clean_schedules_2.csv')\n",
    "    \n",
    "    # Adding opp_ prefix to all of the opponent columns\n",
    "    opp_df = opp_df.add_prefix('opp_')\n",
    "    \n",
    "    # Combining the two dataframes\n",
    "    final_df = pd.concat([final_df, opp_df], axis=1, join='inner')\n",
    "    \n",
    "    # Removing the extra indexing\n",
    "    final_df.drop('opp_Unnamed: 0', inplace=True, axis=1)\n",
    "    final_df.drop('Unnamed: 0', inplace=True, axis=1)\n",
    "    \n",
    "    # Literally just removing the opponent name:\n",
    "    final_df.drop('opp_Team', inplace=True, axis=1)\n",
    "    final_df.drop('Team', inplace=True, axis=1)\n",
    "    \n",
    "    final_df['team_score'] = team_scores\n",
    "    final_df['opp_score'] = opp_scores\n",
    "    \n",
    "    for i in range(len(results)):\n",
    "        if results[i] == 'W':\n",
    "            results[i] = 1\n",
    "        else:\n",
    "            results[i] = 0\n",
    "    \n",
    "    final_df['Result'] = results\n",
    "    \n",
    "    return final_df"
   ]
  },
  {
   "cell_type": "markdown",
   "id": "c4123bf3",
   "metadata": {},
   "source": [
    "## Building and training the network:"
   ]
  },
  {
   "cell_type": "markdown",
   "id": "c054d6ea",
   "metadata": {},
   "source": [
    "Adding the first all teams' data to one dataframe for predictions:"
   ]
  },
  {
   "cell_type": "markdown",
   "id": "be7590c2",
   "metadata": {},
   "source": [
    "# This next part takes a while to run. Gets each team's schedule. 10000+ rows in a dataframe"
   ]
  },
  {
   "cell_type": "code",
   "execution_count": 15,
   "id": "d2cc2f74",
   "metadata": {},
   "outputs": [],
   "source": [
    "# season_df = pd.DataFrame()\n",
    "\n",
    "# for team in valid_teams:\n",
    "#     try:\n",
    "#         team_data = clean_schedules(team)\n",
    "#         season_df = season_df.append(team_data)\n",
    "#     except (IndexError) as e:\n",
    "#         print(\"Error processing \", team, e)\n",
    "#         continue"
   ]
  },
  {
   "cell_type": "code",
   "execution_count": 16,
   "id": "5f76929f",
   "metadata": {},
   "outputs": [
    {
     "data": {
      "text/html": [
       "<div>\n",
       "<style scoped>\n",
       "    .dataframe tbody tr th:only-of-type {\n",
       "        vertical-align: middle;\n",
       "    }\n",
       "\n",
       "    .dataframe tbody tr th {\n",
       "        vertical-align: top;\n",
       "    }\n",
       "\n",
       "    .dataframe thead th {\n",
       "        text-align: right;\n",
       "    }\n",
       "</style>\n",
       "<table border=\"1\" class=\"dataframe\">\n",
       "  <thead>\n",
       "    <tr style=\"text-align: right;\">\n",
       "      <th></th>\n",
       "      <th>Tempo-Adj</th>\n",
       "      <th>Avg. Poss Length-Offense</th>\n",
       "      <th>Avg. Poss Length-Defense</th>\n",
       "      <th>Off. Efficiency-Adj</th>\n",
       "      <th>Def. Efficiency-Adj</th>\n",
       "      <th>AdjTempo</th>\n",
       "      <th>AdjOE_x</th>\n",
       "      <th>Off-eFG%</th>\n",
       "      <th>Off-TO%</th>\n",
       "      <th>Off-OR%</th>\n",
       "      <th>...</th>\n",
       "      <th>opp_AdjOE_y</th>\n",
       "      <th>opp_Off-FT</th>\n",
       "      <th>opp_Off-2P</th>\n",
       "      <th>opp_Off-3P</th>\n",
       "      <th>opp_Def-FT</th>\n",
       "      <th>opp_Def-2P</th>\n",
       "      <th>opp_Def-3P</th>\n",
       "      <th>team_score</th>\n",
       "      <th>opp_score</th>\n",
       "      <th>Result</th>\n",
       "    </tr>\n",
       "  </thead>\n",
       "  <tbody>\n",
       "    <tr>\n",
       "      <th>0</th>\n",
       "      <td>72.5</td>\n",
       "      <td>14.5</td>\n",
       "      <td>17.8</td>\n",
       "      <td>121.8</td>\n",
       "      <td>88.8</td>\n",
       "      <td>72.5</td>\n",
       "      <td>121.8</td>\n",
       "      <td>59.4</td>\n",
       "      <td>15.9</td>\n",
       "      <td>29.0</td>\n",
       "      <td>...</td>\n",
       "      <td>37.3</td>\n",
       "      <td>20.1</td>\n",
       "      <td>51.5</td>\n",
       "      <td>28.4</td>\n",
       "      <td>17.6</td>\n",
       "      <td>52.9</td>\n",
       "      <td>29.5</td>\n",
       "      <td>97</td>\n",
       "      <td>63</td>\n",
       "      <td>1</td>\n",
       "    </tr>\n",
       "    <tr>\n",
       "      <th>1</th>\n",
       "      <td>72.5</td>\n",
       "      <td>14.5</td>\n",
       "      <td>17.8</td>\n",
       "      <td>121.8</td>\n",
       "      <td>88.8</td>\n",
       "      <td>72.5</td>\n",
       "      <td>121.8</td>\n",
       "      <td>59.4</td>\n",
       "      <td>15.9</td>\n",
       "      <td>29.0</td>\n",
       "      <td>...</td>\n",
       "      <td>36.0</td>\n",
       "      <td>19.5</td>\n",
       "      <td>52.4</td>\n",
       "      <td>28.1</td>\n",
       "      <td>20.9</td>\n",
       "      <td>51.9</td>\n",
       "      <td>27.2</td>\n",
       "      <td>86</td>\n",
       "      <td>74</td>\n",
       "      <td>1</td>\n",
       "    </tr>\n",
       "    <tr>\n",
       "      <th>2</th>\n",
       "      <td>72.5</td>\n",
       "      <td>14.5</td>\n",
       "      <td>17.8</td>\n",
       "      <td>121.8</td>\n",
       "      <td>88.8</td>\n",
       "      <td>72.5</td>\n",
       "      <td>121.8</td>\n",
       "      <td>59.4</td>\n",
       "      <td>15.9</td>\n",
       "      <td>29.0</td>\n",
       "      <td>...</td>\n",
       "      <td>29.5</td>\n",
       "      <td>20.0</td>\n",
       "      <td>55.7</td>\n",
       "      <td>24.3</td>\n",
       "      <td>20.1</td>\n",
       "      <td>50.7</td>\n",
       "      <td>29.2</td>\n",
       "      <td>84</td>\n",
       "      <td>57</td>\n",
       "      <td>1</td>\n",
       "    </tr>\n",
       "    <tr>\n",
       "      <th>3</th>\n",
       "      <td>72.5</td>\n",
       "      <td>14.5</td>\n",
       "      <td>17.8</td>\n",
       "      <td>121.8</td>\n",
       "      <td>88.8</td>\n",
       "      <td>72.5</td>\n",
       "      <td>121.8</td>\n",
       "      <td>59.4</td>\n",
       "      <td>15.9</td>\n",
       "      <td>29.0</td>\n",
       "      <td>...</td>\n",
       "      <td>41.9</td>\n",
       "      <td>13.4</td>\n",
       "      <td>51.8</td>\n",
       "      <td>34.9</td>\n",
       "      <td>16.3</td>\n",
       "      <td>45.6</td>\n",
       "      <td>38.0</td>\n",
       "      <td>92</td>\n",
       "      <td>50</td>\n",
       "      <td>1</td>\n",
       "    </tr>\n",
       "    <tr>\n",
       "      <th>4</th>\n",
       "      <td>72.5</td>\n",
       "      <td>14.5</td>\n",
       "      <td>17.8</td>\n",
       "      <td>121.8</td>\n",
       "      <td>88.8</td>\n",
       "      <td>72.5</td>\n",
       "      <td>121.8</td>\n",
       "      <td>59.4</td>\n",
       "      <td>15.9</td>\n",
       "      <td>29.0</td>\n",
       "      <td>...</td>\n",
       "      <td>40.1</td>\n",
       "      <td>18.1</td>\n",
       "      <td>46.7</td>\n",
       "      <td>35.2</td>\n",
       "      <td>19.3</td>\n",
       "      <td>47.0</td>\n",
       "      <td>33.7</td>\n",
       "      <td>107</td>\n",
       "      <td>54</td>\n",
       "      <td>1</td>\n",
       "    </tr>\n",
       "    <tr>\n",
       "      <th>...</th>\n",
       "      <td>...</td>\n",
       "      <td>...</td>\n",
       "      <td>...</td>\n",
       "      <td>...</td>\n",
       "      <td>...</td>\n",
       "      <td>...</td>\n",
       "      <td>...</td>\n",
       "      <td>...</td>\n",
       "      <td>...</td>\n",
       "      <td>...</td>\n",
       "      <td>...</td>\n",
       "      <td>...</td>\n",
       "      <td>...</td>\n",
       "      <td>...</td>\n",
       "      <td>...</td>\n",
       "      <td>...</td>\n",
       "      <td>...</td>\n",
       "      <td>...</td>\n",
       "      <td>...</td>\n",
       "      <td>...</td>\n",
       "      <td>...</td>\n",
       "    </tr>\n",
       "    <tr>\n",
       "      <th>10586</th>\n",
       "      <td>62.3</td>\n",
       "      <td>20.0</td>\n",
       "      <td>17.7</td>\n",
       "      <td>79.5</td>\n",
       "      <td>111.1</td>\n",
       "      <td>62.3</td>\n",
       "      <td>79.5</td>\n",
       "      <td>42.4</td>\n",
       "      <td>26.1</td>\n",
       "      <td>30.0</td>\n",
       "      <td>...</td>\n",
       "      <td>31.8</td>\n",
       "      <td>17.4</td>\n",
       "      <td>57.1</td>\n",
       "      <td>25.5</td>\n",
       "      <td>16.4</td>\n",
       "      <td>52.4</td>\n",
       "      <td>31.2</td>\n",
       "      <td>66</td>\n",
       "      <td>56</td>\n",
       "      <td>1</td>\n",
       "    </tr>\n",
       "    <tr>\n",
       "      <th>10587</th>\n",
       "      <td>62.3</td>\n",
       "      <td>20.0</td>\n",
       "      <td>17.7</td>\n",
       "      <td>79.5</td>\n",
       "      <td>111.1</td>\n",
       "      <td>62.3</td>\n",
       "      <td>79.5</td>\n",
       "      <td>42.4</td>\n",
       "      <td>26.1</td>\n",
       "      <td>30.0</td>\n",
       "      <td>...</td>\n",
       "      <td>38.7</td>\n",
       "      <td>18.0</td>\n",
       "      <td>49.9</td>\n",
       "      <td>32.1</td>\n",
       "      <td>17.3</td>\n",
       "      <td>52.1</td>\n",
       "      <td>30.6</td>\n",
       "      <td>74</td>\n",
       "      <td>61</td>\n",
       "      <td>0</td>\n",
       "    </tr>\n",
       "    <tr>\n",
       "      <th>10588</th>\n",
       "      <td>62.3</td>\n",
       "      <td>20.0</td>\n",
       "      <td>17.7</td>\n",
       "      <td>79.5</td>\n",
       "      <td>111.1</td>\n",
       "      <td>62.3</td>\n",
       "      <td>79.5</td>\n",
       "      <td>42.4</td>\n",
       "      <td>26.1</td>\n",
       "      <td>30.0</td>\n",
       "      <td>...</td>\n",
       "      <td>34.7</td>\n",
       "      <td>17.4</td>\n",
       "      <td>53.8</td>\n",
       "      <td>28.8</td>\n",
       "      <td>19.1</td>\n",
       "      <td>45.1</td>\n",
       "      <td>35.8</td>\n",
       "      <td>66</td>\n",
       "      <td>54</td>\n",
       "      <td>0</td>\n",
       "    </tr>\n",
       "    <tr>\n",
       "      <th>10589</th>\n",
       "      <td>62.3</td>\n",
       "      <td>20.0</td>\n",
       "      <td>17.7</td>\n",
       "      <td>79.5</td>\n",
       "      <td>111.1</td>\n",
       "      <td>62.3</td>\n",
       "      <td>79.5</td>\n",
       "      <td>42.4</td>\n",
       "      <td>26.1</td>\n",
       "      <td>30.0</td>\n",
       "      <td>...</td>\n",
       "      <td>34.4</td>\n",
       "      <td>19.7</td>\n",
       "      <td>55.3</td>\n",
       "      <td>25.0</td>\n",
       "      <td>18.7</td>\n",
       "      <td>53.6</td>\n",
       "      <td>27.8</td>\n",
       "      <td>67</td>\n",
       "      <td>41</td>\n",
       "      <td>0</td>\n",
       "    </tr>\n",
       "    <tr>\n",
       "      <th>10590</th>\n",
       "      <td>62.3</td>\n",
       "      <td>20.0</td>\n",
       "      <td>17.7</td>\n",
       "      <td>79.5</td>\n",
       "      <td>111.1</td>\n",
       "      <td>62.3</td>\n",
       "      <td>79.5</td>\n",
       "      <td>42.4</td>\n",
       "      <td>26.1</td>\n",
       "      <td>30.0</td>\n",
       "      <td>...</td>\n",
       "      <td>41.8</td>\n",
       "      <td>21.4</td>\n",
       "      <td>48.8</td>\n",
       "      <td>29.8</td>\n",
       "      <td>13.1</td>\n",
       "      <td>52.7</td>\n",
       "      <td>34.1</td>\n",
       "      <td>69</td>\n",
       "      <td>58</td>\n",
       "      <td>0</td>\n",
       "    </tr>\n",
       "  </tbody>\n",
       "</table>\n",
       "<p>10591 rows × 63 columns</p>\n",
       "</div>"
      ],
      "text/plain": [
       "       Tempo-Adj  Avg. Poss Length-Offense  Avg. Poss Length-Defense  \\\n",
       "0           72.5                      14.5                      17.8   \n",
       "1           72.5                      14.5                      17.8   \n",
       "2           72.5                      14.5                      17.8   \n",
       "3           72.5                      14.5                      17.8   \n",
       "4           72.5                      14.5                      17.8   \n",
       "...          ...                       ...                       ...   \n",
       "10586       62.3                      20.0                      17.7   \n",
       "10587       62.3                      20.0                      17.7   \n",
       "10588       62.3                      20.0                      17.7   \n",
       "10589       62.3                      20.0                      17.7   \n",
       "10590       62.3                      20.0                      17.7   \n",
       "\n",
       "       Off. Efficiency-Adj  Def. Efficiency-Adj  AdjTempo  AdjOE_x  Off-eFG%  \\\n",
       "0                    121.8                 88.8      72.5    121.8      59.4   \n",
       "1                    121.8                 88.8      72.5    121.8      59.4   \n",
       "2                    121.8                 88.8      72.5    121.8      59.4   \n",
       "3                    121.8                 88.8      72.5    121.8      59.4   \n",
       "4                    121.8                 88.8      72.5    121.8      59.4   \n",
       "...                    ...                  ...       ...      ...       ...   \n",
       "10586                 79.5                111.1      62.3     79.5      42.4   \n",
       "10587                 79.5                111.1      62.3     79.5      42.4   \n",
       "10588                 79.5                111.1      62.3     79.5      42.4   \n",
       "10589                 79.5                111.1      62.3     79.5      42.4   \n",
       "10590                 79.5                111.1      62.3     79.5      42.4   \n",
       "\n",
       "       Off-TO%  Off-OR%  ...  opp_AdjOE_y  opp_Off-FT  opp_Off-2P  opp_Off-3P  \\\n",
       "0         15.9     29.0  ...         37.3        20.1        51.5        28.4   \n",
       "1         15.9     29.0  ...         36.0        19.5        52.4        28.1   \n",
       "2         15.9     29.0  ...         29.5        20.0        55.7        24.3   \n",
       "3         15.9     29.0  ...         41.9        13.4        51.8        34.9   \n",
       "4         15.9     29.0  ...         40.1        18.1        46.7        35.2   \n",
       "...        ...      ...  ...          ...         ...         ...         ...   \n",
       "10586     26.1     30.0  ...         31.8        17.4        57.1        25.5   \n",
       "10587     26.1     30.0  ...         38.7        18.0        49.9        32.1   \n",
       "10588     26.1     30.0  ...         34.7        17.4        53.8        28.8   \n",
       "10589     26.1     30.0  ...         34.4        19.7        55.3        25.0   \n",
       "10590     26.1     30.0  ...         41.8        21.4        48.8        29.8   \n",
       "\n",
       "       opp_Def-FT  opp_Def-2P  opp_Def-3P  team_score  opp_score  Result  \n",
       "0            17.6        52.9        29.5          97         63       1  \n",
       "1            20.9        51.9        27.2          86         74       1  \n",
       "2            20.1        50.7        29.2          84         57       1  \n",
       "3            16.3        45.6        38.0          92         50       1  \n",
       "4            19.3        47.0        33.7         107         54       1  \n",
       "...           ...         ...         ...         ...        ...     ...  \n",
       "10586        16.4        52.4        31.2          66         56       1  \n",
       "10587        17.3        52.1        30.6          74         61       0  \n",
       "10588        19.1        45.1        35.8          66         54       0  \n",
       "10589        18.7        53.6        27.8          67         41       0  \n",
       "10590        13.1        52.7        34.1          69         58       0  \n",
       "\n",
       "[10591 rows x 63 columns]"
      ]
     },
     "execution_count": 16,
     "metadata": {},
     "output_type": "execute_result"
    }
   ],
   "source": [
    "season_df = pd.read_csv(\"full_season_full_stats.csv\")\n",
    "season_df = season_df.drop(columns='Unnamed: 0')\n",
    "# season_df.to_csv(\"full_season_full_stats.csv\")\n",
    "season_df"
   ]
  },
  {
   "cell_type": "markdown",
   "id": "f5b28ddd",
   "metadata": {},
   "source": [
    "Creating and training the model:"
   ]
  },
  {
   "cell_type": "code",
   "execution_count": 18,
   "id": "622543ba",
   "metadata": {},
   "outputs": [
    {
     "data": {
      "text/plain": [
       "0.7647971128245763"
      ]
     },
     "execution_count": 18,
     "metadata": {},
     "output_type": "execute_result"
    }
   ],
   "source": [
    "X_ta = season_df.drop(['Result', 'team_score', 'opp_score'], axis=1).values\n",
    "\n",
    "# y_ta = season_df[['team_score','opp_score']].values\n",
    "y_ta = season_df['Result'].values\n",
    "\n",
    "model = tree.DecisionTreeRegressor()\n",
    "# model = RandomForestClassifier(n_estimators=20)\n",
    "\n",
    "model.fit(X_ta, y_ta)\n",
    "predictions = model.predict(X_ta)\n",
    "predictions = np.round(predictions, 2)\n",
    "\n",
    "# Getting the model's score\n",
    "model.score(X_ta, y_ta)\n",
    "# accuracy_score(predictions, y_ta)"
   ]
  },
  {
   "cell_type": "markdown",
   "id": "90507bd4",
   "metadata": {},
   "source": [
    "Loop to get each team's predicted record based on the above model:"
   ]
  },
  {
   "cell_type": "code",
   "execution_count": 19,
   "id": "702fd419",
   "metadata": {},
   "outputs": [],
   "source": [
    "all_teams_pred = []\n",
    "\n",
    "\n",
    "# Loop to get each team's actual wins/losses and compares them to the model's guesses\n",
    "for team in valid_teams[0:1]:\n",
    "    team_data = clean_schedules(team)\n",
    "    X_ta = team_data.drop(['Result', 'team_score', 'opp_score'], axis=1).values\n",
    "\n",
    "    predictions = model.predict(X_ta)\n",
    "    predictions = np.round(predictions, 2)\n",
    "\n",
    "    for i in range(len(predictions)):\n",
    "        if predictions[i] > 0.5:\n",
    "            predictions[i] = 1\n",
    "        else:\n",
    "            predictions[i] = 0\n",
    "    wins = sum(predictions)\n",
    "    losses = len(predictions) - wins\n",
    "    \n",
    "    team_tuple = (team, wins, losses)\n",
    "    all_teams_pred.append(team_tuple)"
   ]
  },
  {
   "cell_type": "code",
   "execution_count": 20,
   "id": "9112c202",
   "metadata": {},
   "outputs": [
    {
     "data": {
      "text/plain": [
       "[('Gonzaga', 28.0, 2.0)]"
      ]
     },
     "execution_count": 20,
     "metadata": {},
     "output_type": "execute_result"
    }
   ],
   "source": [
    "all_teams_pred"
   ]
  },
  {
   "cell_type": "markdown",
   "id": "f1f3e0de",
   "metadata": {},
   "source": [
    "## Predicting Individual Games:"
   ]
  },
  {
   "cell_type": "code",
   "execution_count": 21,
   "id": "648dc9d0",
   "metadata": {},
   "outputs": [],
   "source": [
    "# Function that puts two teams' stats into one data frame and makes a prediction on the game\n",
    "def predict_game(team1, team2):\n",
    "    team1_df = full_stats.loc[full_stats['Team'] == team1]\n",
    "    team2_df = full_stats.loc[full_stats['Team'] == team2]\n",
    "\n",
    "    # Adding opp_ prefix to all of the opponent columns\n",
    "    team2_df = team2_df.add_prefix('opp_')\n",
    "\n",
    "    # Adding join col to make the merge easy\n",
    "    team1_df['join'] = [1]\n",
    "    team2_df['join'] = [1]\n",
    "\n",
    "    # Merging the two dataframes on the 'join' col\n",
    "    game_df = pd.merge(team1_df, team2_df, on=['join'])\n",
    "\n",
    "    # Dropping the unneccessary columns\n",
    "    game_df.drop('Team', inplace=True, axis=1)\n",
    "    game_df.drop('opp_Team', inplace=True, axis=1)\n",
    "    game_df.drop('join', inplace=True, axis=1)\n",
    "    prediction = model.predict(game_df)\n",
    "\n",
    "    if(prediction[0] > 0.5):\n",
    "        return team1\n",
    "    else:\n",
    "        return team2"
   ]
  },
  {
   "cell_type": "markdown",
   "id": "e7096579",
   "metadata": {},
   "source": [
    "## March Maddness Predictions:"
   ]
  },
  {
   "cell_type": "code",
   "execution_count": 22,
   "id": "d48625de",
   "metadata": {},
   "outputs": [],
   "source": [
    "first_four = [\n",
    "    ['Wyoming', 'Indiana'],\n",
    "    ['Bryant', 'Wright St.'],\n",
    "    ['Texas Southern', 'Texas A&M Corpus Chris'],\n",
    "    ['Rutgers', 'Notre Dame']\n",
    "]\n",
    "\n",
    "round_64 = [\n",
    "    ['Gonzaga', 'Georgia St.'],\n",
    "    ['Boise St.', 'Memphis'], \n",
    "    ['Connecticut', 'New Mexico St.'], \n",
    "    ['Arkansas', 'Vermont'],\n",
    "    ['Alabama', predict_game('Rutgers', 'Notre Dame')],\n",
    "    ['Texas Tech', 'Montana St.'],\n",
    "    ['Michigan St.', 'Davidson'],\n",
    "    ['Duke', 'Cal St. Fullerton'],\n",
    "    ['Baylor', 'Norfolk St.'],\n",
    "    ['North Carolina', 'Marquette'],\n",
    "    [\"Saint Mary's\", predict_game('Wyoming', 'Indiana')],\n",
    "    ['UCLA', 'Akron'],\n",
    "    ['Texas', 'Virginia Tech'],\n",
    "    ['Purdue', 'Yale'],\n",
    "    ['Murray St.', 'San Francisco'],\n",
    "    ['Kentucky', \"Saint Peter's\"],\n",
    "    ['Arizona', predict_game('Bryant', 'Wright St.')],\n",
    "    ['Seton Hall', 'TCU'],\n",
    "    ['Houston', 'UAB'],\n",
    "    ['Illinois', 'Chattanooga'],\n",
    "    ['Colorado St.', 'Michigan'],\n",
    "    ['Tennessee', 'Longwood'],\n",
    "    ['Ohio St.', 'Loyola Chicago'],\n",
    "    ['Villanova', 'Delaware'],\n",
    "    ['Kansas', predict_game('Texas Southern', 'Texas A&M Corpus Chris')],\n",
    "    ['San Diego St.', 'Creighton'],\n",
    "    ['Iowa', 'Richmond'],\n",
    "    ['Providence', 'South Dakota St.'],\n",
    "    ['LSU', 'Iowa St.'],\n",
    "    ['Wisconsin', 'Colgate'],\n",
    "    ['USC', 'Miami FL'],\n",
    "    ['Auburn', \"Jacksonville St.\"]\n",
    "]"
   ]
  },
  {
   "cell_type": "code",
   "execution_count": 23,
   "id": "13bdc3e8",
   "metadata": {},
   "outputs": [
    {
     "data": {
      "text/plain": [
       "'Arizona'"
      ]
     },
     "execution_count": 23,
     "metadata": {},
     "output_type": "execute_result"
    }
   ],
   "source": [
    "X_ta = season_df.drop(['Result', 'team_score', 'opp_score'], axis=1).values\n",
    "\n",
    "# y_ta = season_df[['team_score','opp_score']].values\n",
    "y_ta = season_df['Result'].values\n",
    "\n",
    "model = tree.DecisionTreeRegressor()\n",
    "# model = RandomForestClassifier(n_estimators=20)\n",
    "\n",
    "model.fit(X_ta, y_ta)\n",
    "predictions = model.predict(X_ta)\n",
    "predictions = np.round(predictions, 2)\n",
    "\n",
    "# Getting the model's score\n",
    "model.score(X_ta, y_ta)\n",
    "# accuracy_score(predictions, y_ta)\n",
    "\n",
    "preds_64 = []\n",
    "preds_32 = []\n",
    "preds_16 = []\n",
    "preds_8 = []\n",
    "preds_4 = []\n",
    "\n",
    "for game in round_64:\n",
    "    preds_64.append(predict_game(game[0], game[1]))\n",
    "\n",
    "for i in range(0, len(preds_64), 2):\n",
    "    preds_32.append(predict_game(preds_64[i],preds_64[i+1]))\n",
    "\n",
    "for i in range(0, len(preds_32), 2):\n",
    "    preds_16.append(predict_game(preds_32[i],preds_32[i+1]))\n",
    "\n",
    "for i in range(0, len(preds_16), 2):\n",
    "    preds_8.append(predict_game(preds_16[i],preds_16[i+1]))\n",
    "\n",
    "for i in range(0, len(preds_8), 2):\n",
    "    preds_4.append(predict_game(preds_8[i],preds_8[i+1]))\n",
    "\n",
    "champion = predict_game(preds_4[0], preds_4[1])\n",
    "\n",
    "champion"
   ]
  },
  {
   "cell_type": "code",
   "execution_count": 24,
   "id": "5e6e9753",
   "metadata": {},
   "outputs": [
    {
     "data": {
      "text/plain": [
       "[\"Saint Mary's\", 'Arizona']"
      ]
     },
     "execution_count": 24,
     "metadata": {},
     "output_type": "execute_result"
    }
   ],
   "source": [
    "preds_4"
   ]
  },
  {
   "cell_type": "code",
   "execution_count": 25,
   "id": "cd3793e3",
   "metadata": {},
   "outputs": [
    {
     "data": {
      "text/plain": [
       "'UCLA'"
      ]
     },
     "execution_count": 25,
     "metadata": {},
     "output_type": "execute_result"
    }
   ],
   "source": [
    "predict_game(\"UCLA\", \"Saint Mary's\")"
   ]
  },
  {
   "cell_type": "markdown",
   "id": "28083237",
   "metadata": {},
   "source": [
    "## Running Model Many Times for Best Prediction:"
   ]
  },
  {
   "cell_type": "code",
   "execution_count": 26,
   "id": "2eb45738",
   "metadata": {},
   "outputs": [],
   "source": [
    "X_ta = season_df.drop(['Result', 'team_score', 'opp_score'], axis=1).values\n",
    "y_ta = season_df['Result'].values\n",
    "\n",
    "def get_many_outcomes(num_runs):\n",
    "    winners = []\n",
    "    for i in range(num_runs):\n",
    "        X_ta = season_df.drop(['Result', 'team_score', 'opp_score'], axis=1).values\n",
    "\n",
    "        # y_ta = season_df[['team_score','opp_score']].values\n",
    "        y_ta = season_df['Result'].values\n",
    "\n",
    "        model = tree.DecisionTreeRegressor()\n",
    "        # model = RandomForestClassifier(n_estimators=20)\n",
    "\n",
    "        model.fit(X_ta, y_ta)\n",
    "        predictions = model.predict(X_ta)\n",
    "        predictions = np.round(predictions, 2)\n",
    "\n",
    "        # Getting the model's score\n",
    "        model.score(X_ta, y_ta)\n",
    "        # accuracy_score(predictions, y_ta)\n",
    "\n",
    "        preds_64 = []\n",
    "        preds_32 = []\n",
    "        preds_16 = []\n",
    "        preds_8 = []\n",
    "        preds_4 = []\n",
    "\n",
    "        for game in round_64:\n",
    "            preds_64.append(predict_game(game[0], game[1]))\n",
    "\n",
    "        for i in range(0, len(preds_64), 2):\n",
    "            preds_32.append(predict_game(preds_64[i],preds_64[i+1]))\n",
    "\n",
    "        for i in range(0, len(preds_32), 2):\n",
    "            preds_16.append(predict_game(preds_32[i],preds_32[i+1]))\n",
    "\n",
    "        for i in range(0, len(preds_16), 2):\n",
    "            preds_8.append(predict_game(preds_16[i],preds_16[i+1]))\n",
    "\n",
    "        for i in range(0, len(preds_8), 2):\n",
    "            preds_4.append(predict_game(preds_8[i],preds_8[i+1]))\n",
    "\n",
    "        champion = predict_game(preds_4[0], preds_4[1])\n",
    "\n",
    "        winners.append(champion)\n",
    "        \n",
    "    return winners"
   ]
  },
  {
   "cell_type": "code",
   "execution_count": 27,
   "id": "4e760cef",
   "metadata": {},
   "outputs": [
    {
     "data": {
      "text/plain": [
       "['Arizona',\n",
       " 'Arizona',\n",
       " 'Arizona',\n",
       " 'Arizona',\n",
       " 'Arizona',\n",
       " 'Arizona',\n",
       " 'Arizona',\n",
       " 'Arizona',\n",
       " 'Arizona',\n",
       " 'Arizona']"
      ]
     },
     "execution_count": 27,
     "metadata": {},
     "output_type": "execute_result"
    }
   ],
   "source": [
    "winners = get_many_outcomes(10)\n",
    "winners"
   ]
  },
  {
   "cell_type": "markdown",
   "id": "8b73379c",
   "metadata": {},
   "source": [
    "## Creating a deep learning model with Keras:"
   ]
  },
  {
   "cell_type": "code",
   "execution_count": 28,
   "id": "963a86d6",
   "metadata": {},
   "outputs": [
    {
     "name": "stdout",
     "output_type": "stream",
     "text": [
      "Epoch 1/5\n",
      "2119/2119 [==============================] - 4s 2ms/step - loss: 0.9424 - accuracy: 0.6584\n",
      "Epoch 2/5\n",
      "2119/2119 [==============================] - 3s 1ms/step - loss: 0.6064 - accuracy: 0.6924\n",
      "Epoch 3/5\n",
      "2119/2119 [==============================] - 3s 1ms/step - loss: 0.5646 - accuracy: 0.7063\n",
      "Epoch 4/5\n",
      "2119/2119 [==============================] - 3s 1ms/step - loss: 0.5717 - accuracy: 0.6953\n",
      "Epoch 5/5\n",
      "2119/2119 [==============================] - 3s 1ms/step - loss: 0.5538 - accuracy: 0.7107\n"
     ]
    },
    {
     "data": {
      "text/plain": [
       "<keras.callbacks.History at 0x118fba4ae80>"
      ]
     },
     "execution_count": 28,
     "metadata": {},
     "output_type": "execute_result"
    }
   ],
   "source": [
    "X_ta = season_df.drop(['Result', 'team_score', 'opp_score'], axis=1).values\n",
    "y_ta = season_df['Result'].values\n",
    "\n",
    "encoder = LabelEncoder()\n",
    "encoder.fit(y_ta)\n",
    "encoded_Y = encoder.transform(y_ta)\n",
    "\n",
    "# Function to create the baseline model:\n",
    "def create_baseline():\n",
    "    dl_model = Sequential()\n",
    "    dl_model.add(Dense(60, input_dim=60, activation='relu'))\n",
    "    dl_model.add(Dense(20, activation='relu'))\n",
    "    dl_model.add(Dense(1, activation='sigmoid'))\n",
    "    # Compiling:\n",
    "    dl_model.compile(loss='binary_crossentropy', optimizer='adam', metrics=['accuracy'])\n",
    "    return dl_model\n",
    "\n",
    "deep_model = create_baseline()\n",
    "deep_model.fit(X_ta, y_ta, epochs=5, batch_size = 5)"
   ]
  },
  {
   "cell_type": "code",
   "execution_count": 29,
   "id": "189eb816",
   "metadata": {},
   "outputs": [
    {
     "name": "stdout",
     "output_type": "stream",
     "text": [
      "Model: \"sequential\"\n",
      "_________________________________________________________________\n",
      " Layer (type)                Output Shape              Param #   \n",
      "=================================================================\n",
      " dense (Dense)               (None, 60)                3660      \n",
      "                                                                 \n",
      " dense_1 (Dense)             (None, 20)                1220      \n",
      "                                                                 \n",
      " dense_2 (Dense)             (None, 1)                 21        \n",
      "                                                                 \n",
      "=================================================================\n",
      "Total params: 4,901\n",
      "Trainable params: 4,901\n",
      "Non-trainable params: 0\n",
      "_________________________________________________________________\n"
     ]
    }
   ],
   "source": [
    "deep_model.summary()"
   ]
  },
  {
   "cell_type": "code",
   "execution_count": 51,
   "id": "687d780b",
   "metadata": {},
   "outputs": [],
   "source": [
    "# Function that puts two teams' stats into one data frame and makes a prediction on the game\n",
    "def dl_predict_game(team1, team2):\n",
    "    team1_df = full_stats.loc[full_stats['Team'] == team1]\n",
    "    team2_df = full_stats.loc[full_stats['Team'] == team2]\n",
    "\n",
    "    # Adding opp_ prefix to all of the opponent columns\n",
    "    team2_df = team2_df.add_prefix('opp_')\n",
    "\n",
    "    # Adding join col to make the merge easy\n",
    "    team1_df['join'] = [1]\n",
    "    team2_df['join'] = [1]\n",
    "\n",
    "    # Merging the two dataframes on the 'join' col\n",
    "    game_df = pd.merge(team1_df, team2_df, on=['join'])\n",
    "\n",
    "    # Dropping the unneccessary columns\n",
    "    game_df.drop('Team', inplace=True, axis=1)\n",
    "    game_df.drop('opp_Team', inplace=True, axis=1)\n",
    "    game_df.drop('join', inplace=True, axis=1)\n",
    "    \n",
    "    return game_df"
   ]
  },
  {
   "cell_type": "code",
   "execution_count": 56,
   "id": "7c65be7e",
   "metadata": {},
   "outputs": [
    {
     "data": {
      "text/plain": [
       "0.93343663"
      ]
     },
     "execution_count": 56,
     "metadata": {},
     "output_type": "execute_result"
    }
   ],
   "source": [
    "deep_model.predict((dl_predict_game('Gonzaga', 'Bellarmine')).astype(float))[0][0]"
   ]
  },
  {
   "cell_type": "code",
   "execution_count": 50,
   "id": "103da71a",
   "metadata": {},
   "outputs": [
    {
     "ename": "UnimplementedError",
     "evalue": "Graph execution error:\n\nDetected at node 'sequential/Cast' defined at (most recent call last):\n    File \"C:\\Users\\jaymi\\anaconda3\\lib\\runpy.py\", line 197, in _run_module_as_main\n      return _run_code(code, main_globals, None,\n    File \"C:\\Users\\jaymi\\anaconda3\\lib\\runpy.py\", line 87, in _run_code\n      exec(code, run_globals)\n    File \"C:\\Users\\jaymi\\anaconda3\\lib\\site-packages\\ipykernel_launcher.py\", line 16, in <module>\n      app.launch_new_instance()\n    File \"C:\\Users\\jaymi\\anaconda3\\lib\\site-packages\\traitlets\\config\\application.py\", line 846, in launch_instance\n      app.start()\n    File \"C:\\Users\\jaymi\\anaconda3\\lib\\site-packages\\ipykernel\\kernelapp.py\", line 677, in start\n      self.io_loop.start()\n    File \"C:\\Users\\jaymi\\anaconda3\\lib\\site-packages\\tornado\\platform\\asyncio.py\", line 199, in start\n      self.asyncio_loop.run_forever()\n    File \"C:\\Users\\jaymi\\anaconda3\\lib\\asyncio\\base_events.py\", line 596, in run_forever\n      self._run_once()\n    File \"C:\\Users\\jaymi\\anaconda3\\lib\\asyncio\\base_events.py\", line 1890, in _run_once\n      handle._run()\n    File \"C:\\Users\\jaymi\\anaconda3\\lib\\asyncio\\events.py\", line 80, in _run\n      self._context.run(self._callback, *self._args)\n    File \"C:\\Users\\jaymi\\anaconda3\\lib\\site-packages\\ipykernel\\kernelbase.py\", line 457, in dispatch_queue\n      await self.process_one()\n    File \"C:\\Users\\jaymi\\anaconda3\\lib\\site-packages\\ipykernel\\kernelbase.py\", line 446, in process_one\n      await dispatch(*args)\n    File \"C:\\Users\\jaymi\\anaconda3\\lib\\site-packages\\ipykernel\\kernelbase.py\", line 353, in dispatch_shell\n      await result\n    File \"C:\\Users\\jaymi\\anaconda3\\lib\\site-packages\\ipykernel\\kernelbase.py\", line 648, in execute_request\n      reply_content = await reply_content\n    File \"C:\\Users\\jaymi\\anaconda3\\lib\\site-packages\\ipykernel\\ipkernel.py\", line 353, in do_execute\n      res = shell.run_cell(code, store_history=store_history, silent=silent)\n    File \"C:\\Users\\jaymi\\anaconda3\\lib\\site-packages\\ipykernel\\zmqshell.py\", line 533, in run_cell\n      return super(ZMQInteractiveShell, self).run_cell(*args, **kwargs)\n    File \"C:\\Users\\jaymi\\anaconda3\\lib\\site-packages\\IPython\\core\\interactiveshell.py\", line 2901, in run_cell\n      result = self._run_cell(\n    File \"C:\\Users\\jaymi\\anaconda3\\lib\\site-packages\\IPython\\core\\interactiveshell.py\", line 2947, in _run_cell\n      return runner(coro)\n    File \"C:\\Users\\jaymi\\anaconda3\\lib\\site-packages\\IPython\\core\\async_helpers.py\", line 68, in _pseudo_sync_runner\n      coro.send(None)\n    File \"C:\\Users\\jaymi\\anaconda3\\lib\\site-packages\\IPython\\core\\interactiveshell.py\", line 3172, in run_cell_async\n      has_raised = await self.run_ast_nodes(code_ast.body, cell_name,\n    File \"C:\\Users\\jaymi\\anaconda3\\lib\\site-packages\\IPython\\core\\interactiveshell.py\", line 3364, in run_ast_nodes\n      if (await self.run_code(code, result,  async_=asy)):\n    File \"C:\\Users\\jaymi\\anaconda3\\lib\\site-packages\\IPython\\core\\interactiveshell.py\", line 3444, in run_code\n      exec(code_obj, self.user_global_ns, self.user_ns)\n    File \"C:\\Users\\jaymi\\AppData\\Local\\Temp/ipykernel_15608/491815658.py\", line 1, in <module>\n      dl_predict_game('Gonzaga', 'Baylor')\n    File \"C:\\Users\\jaymi\\AppData\\Local\\Temp/ipykernel_15608/2526544572.py\", line 20, in dl_predict_game\n      prediction = (deep_model.predict(game_df)).astype(float)\n    File \"C:\\Users\\jaymi\\anaconda3\\lib\\site-packages\\keras\\utils\\traceback_utils.py\", line 64, in error_handler\n      return fn(*args, **kwargs)\n    File \"C:\\Users\\jaymi\\anaconda3\\lib\\site-packages\\keras\\engine\\training.py\", line 1982, in predict\n      tmp_batch_outputs = self.predict_function(iterator)\n    File \"C:\\Users\\jaymi\\anaconda3\\lib\\site-packages\\keras\\engine\\training.py\", line 1801, in predict_function\n      return step_function(self, iterator)\n    File \"C:\\Users\\jaymi\\anaconda3\\lib\\site-packages\\keras\\engine\\training.py\", line 1790, in step_function\n      outputs = model.distribute_strategy.run(run_step, args=(data,))\n    File \"C:\\Users\\jaymi\\anaconda3\\lib\\site-packages\\keras\\engine\\training.py\", line 1783, in run_step\n      outputs = model.predict_step(data)\n    File \"C:\\Users\\jaymi\\anaconda3\\lib\\site-packages\\keras\\engine\\training.py\", line 1751, in predict_step\n      return self(x, training=False)\n    File \"C:\\Users\\jaymi\\anaconda3\\lib\\site-packages\\keras\\utils\\traceback_utils.py\", line 64, in error_handler\n      return fn(*args, **kwargs)\n    File \"C:\\Users\\jaymi\\anaconda3\\lib\\site-packages\\keras\\engine\\base_layer.py\", line 1096, in __call__\n      outputs = call_fn(inputs, *args, **kwargs)\n    File \"C:\\Users\\jaymi\\anaconda3\\lib\\site-packages\\keras\\utils\\traceback_utils.py\", line 92, in error_handler\n      return fn(*args, **kwargs)\n    File \"C:\\Users\\jaymi\\anaconda3\\lib\\site-packages\\keras\\engine\\sequential.py\", line 374, in call\n      return super(Sequential, self).call(inputs, training=training, mask=mask)\n    File \"C:\\Users\\jaymi\\anaconda3\\lib\\site-packages\\keras\\engine\\functional.py\", line 451, in call\n      return self._run_internal_graph(\n    File \"C:\\Users\\jaymi\\anaconda3\\lib\\site-packages\\keras\\engine\\functional.py\", line 571, in _run_internal_graph\n      y = self._conform_to_reference_input(y, ref_input=x)\n    File \"C:\\Users\\jaymi\\anaconda3\\lib\\site-packages\\keras\\engine\\functional.py\", line 671, in _conform_to_reference_input\n      tensor = tf.cast(tensor, dtype=ref_input.dtype)\nNode: 'sequential/Cast'\nCast string to float is not supported\n\t [[{{node sequential/Cast}}]] [Op:__inference_predict_function_43263]",
     "output_type": "error",
     "traceback": [
      "\u001b[1;31m---------------------------------------------------------------------------\u001b[0m",
      "\u001b[1;31mUnimplementedError\u001b[0m                        Traceback (most recent call last)",
      "\u001b[1;32m~\\AppData\\Local\\Temp/ipykernel_15608/491815658.py\u001b[0m in \u001b[0;36m<module>\u001b[1;34m\u001b[0m\n\u001b[1;32m----> 1\u001b[1;33m \u001b[0mdl_predict_game\u001b[0m\u001b[1;33m(\u001b[0m\u001b[1;34m'Gonzaga'\u001b[0m\u001b[1;33m,\u001b[0m \u001b[1;34m'Baylor'\u001b[0m\u001b[1;33m)\u001b[0m\u001b[1;33m\u001b[0m\u001b[1;33m\u001b[0m\u001b[0m\n\u001b[0m",
      "\u001b[1;32m~\\AppData\\Local\\Temp/ipykernel_15608/2544847164.py\u001b[0m in \u001b[0;36mdl_predict_game\u001b[1;34m(team1, team2)\u001b[0m\n\u001b[0;32m     19\u001b[0m     \u001b[0mgame_df\u001b[0m\u001b[1;33m.\u001b[0m\u001b[0mdrop\u001b[0m\u001b[1;33m(\u001b[0m\u001b[1;34m'join'\u001b[0m\u001b[1;33m,\u001b[0m \u001b[0minplace\u001b[0m\u001b[1;33m=\u001b[0m\u001b[1;32mTrue\u001b[0m\u001b[1;33m,\u001b[0m \u001b[0maxis\u001b[0m\u001b[1;33m=\u001b[0m\u001b[1;36m1\u001b[0m\u001b[1;33m)\u001b[0m\u001b[1;33m\u001b[0m\u001b[1;33m\u001b[0m\u001b[0m\n\u001b[0;32m     20\u001b[0m \u001b[1;31m# #     prediction = (deep_model.predict(game_df)).astype(float)[0]\u001b[0m\u001b[1;33m\u001b[0m\u001b[1;33m\u001b[0m\u001b[0m\n\u001b[1;32m---> 21\u001b[1;33m     \u001b[0mdeep_model\u001b[0m\u001b[1;33m.\u001b[0m\u001b[0mpredict\u001b[0m\u001b[1;33m(\u001b[0m\u001b[1;33m(\u001b[0m\u001b[0mgame_df\u001b[0m\u001b[1;33m)\u001b[0m\u001b[1;33m)\u001b[0m\u001b[1;33m.\u001b[0m\u001b[0mastype\u001b[0m\u001b[1;33m(\u001b[0m\u001b[0mfloat\u001b[0m\u001b[1;33m)\u001b[0m\u001b[1;33m[\u001b[0m\u001b[1;36m0\u001b[0m\u001b[1;33m]\u001b[0m\u001b[1;33m[\u001b[0m\u001b[1;36m0\u001b[0m\u001b[1;33m]\u001b[0m\u001b[1;33m\u001b[0m\u001b[1;33m\u001b[0m\u001b[0m\n\u001b[0m\u001b[0;32m     22\u001b[0m \u001b[1;33m\u001b[0m\u001b[0m\n\u001b[0;32m     23\u001b[0m \u001b[1;31m#     winner = \"\"\u001b[0m\u001b[1;33m\u001b[0m\u001b[1;33m\u001b[0m\u001b[0m\n",
      "\u001b[1;32m~\\anaconda3\\lib\\site-packages\\keras\\utils\\traceback_utils.py\u001b[0m in \u001b[0;36merror_handler\u001b[1;34m(*args, **kwargs)\u001b[0m\n\u001b[0;32m     65\u001b[0m     \u001b[1;32mexcept\u001b[0m \u001b[0mException\u001b[0m \u001b[1;32mas\u001b[0m \u001b[0me\u001b[0m\u001b[1;33m:\u001b[0m  \u001b[1;31m# pylint: disable=broad-except\u001b[0m\u001b[1;33m\u001b[0m\u001b[1;33m\u001b[0m\u001b[0m\n\u001b[0;32m     66\u001b[0m       \u001b[0mfiltered_tb\u001b[0m \u001b[1;33m=\u001b[0m \u001b[0m_process_traceback_frames\u001b[0m\u001b[1;33m(\u001b[0m\u001b[0me\u001b[0m\u001b[1;33m.\u001b[0m\u001b[0m__traceback__\u001b[0m\u001b[1;33m)\u001b[0m\u001b[1;33m\u001b[0m\u001b[1;33m\u001b[0m\u001b[0m\n\u001b[1;32m---> 67\u001b[1;33m       \u001b[1;32mraise\u001b[0m \u001b[0me\u001b[0m\u001b[1;33m.\u001b[0m\u001b[0mwith_traceback\u001b[0m\u001b[1;33m(\u001b[0m\u001b[0mfiltered_tb\u001b[0m\u001b[1;33m)\u001b[0m \u001b[1;32mfrom\u001b[0m \u001b[1;32mNone\u001b[0m\u001b[1;33m\u001b[0m\u001b[1;33m\u001b[0m\u001b[0m\n\u001b[0m\u001b[0;32m     68\u001b[0m     \u001b[1;32mfinally\u001b[0m\u001b[1;33m:\u001b[0m\u001b[1;33m\u001b[0m\u001b[1;33m\u001b[0m\u001b[0m\n\u001b[0;32m     69\u001b[0m       \u001b[1;32mdel\u001b[0m \u001b[0mfiltered_tb\u001b[0m\u001b[1;33m\u001b[0m\u001b[1;33m\u001b[0m\u001b[0m\n",
      "\u001b[1;32m~\\anaconda3\\lib\\site-packages\\tensorflow\\python\\eager\\execute.py\u001b[0m in \u001b[0;36mquick_execute\u001b[1;34m(op_name, num_outputs, inputs, attrs, ctx, name)\u001b[0m\n\u001b[0;32m     52\u001b[0m   \u001b[1;32mtry\u001b[0m\u001b[1;33m:\u001b[0m\u001b[1;33m\u001b[0m\u001b[1;33m\u001b[0m\u001b[0m\n\u001b[0;32m     53\u001b[0m     \u001b[0mctx\u001b[0m\u001b[1;33m.\u001b[0m\u001b[0mensure_initialized\u001b[0m\u001b[1;33m(\u001b[0m\u001b[1;33m)\u001b[0m\u001b[1;33m\u001b[0m\u001b[1;33m\u001b[0m\u001b[0m\n\u001b[1;32m---> 54\u001b[1;33m     tensors = pywrap_tfe.TFE_Py_Execute(ctx._handle, device_name, op_name,\n\u001b[0m\u001b[0;32m     55\u001b[0m                                         inputs, attrs, num_outputs)\n\u001b[0;32m     56\u001b[0m   \u001b[1;32mexcept\u001b[0m \u001b[0mcore\u001b[0m\u001b[1;33m.\u001b[0m\u001b[0m_NotOkStatusException\u001b[0m \u001b[1;32mas\u001b[0m \u001b[0me\u001b[0m\u001b[1;33m:\u001b[0m\u001b[1;33m\u001b[0m\u001b[1;33m\u001b[0m\u001b[0m\n",
      "\u001b[1;31mUnimplementedError\u001b[0m: Graph execution error:\n\nDetected at node 'sequential/Cast' defined at (most recent call last):\n    File \"C:\\Users\\jaymi\\anaconda3\\lib\\runpy.py\", line 197, in _run_module_as_main\n      return _run_code(code, main_globals, None,\n    File \"C:\\Users\\jaymi\\anaconda3\\lib\\runpy.py\", line 87, in _run_code\n      exec(code, run_globals)\n    File \"C:\\Users\\jaymi\\anaconda3\\lib\\site-packages\\ipykernel_launcher.py\", line 16, in <module>\n      app.launch_new_instance()\n    File \"C:\\Users\\jaymi\\anaconda3\\lib\\site-packages\\traitlets\\config\\application.py\", line 846, in launch_instance\n      app.start()\n    File \"C:\\Users\\jaymi\\anaconda3\\lib\\site-packages\\ipykernel\\kernelapp.py\", line 677, in start\n      self.io_loop.start()\n    File \"C:\\Users\\jaymi\\anaconda3\\lib\\site-packages\\tornado\\platform\\asyncio.py\", line 199, in start\n      self.asyncio_loop.run_forever()\n    File \"C:\\Users\\jaymi\\anaconda3\\lib\\asyncio\\base_events.py\", line 596, in run_forever\n      self._run_once()\n    File \"C:\\Users\\jaymi\\anaconda3\\lib\\asyncio\\base_events.py\", line 1890, in _run_once\n      handle._run()\n    File \"C:\\Users\\jaymi\\anaconda3\\lib\\asyncio\\events.py\", line 80, in _run\n      self._context.run(self._callback, *self._args)\n    File \"C:\\Users\\jaymi\\anaconda3\\lib\\site-packages\\ipykernel\\kernelbase.py\", line 457, in dispatch_queue\n      await self.process_one()\n    File \"C:\\Users\\jaymi\\anaconda3\\lib\\site-packages\\ipykernel\\kernelbase.py\", line 446, in process_one\n      await dispatch(*args)\n    File \"C:\\Users\\jaymi\\anaconda3\\lib\\site-packages\\ipykernel\\kernelbase.py\", line 353, in dispatch_shell\n      await result\n    File \"C:\\Users\\jaymi\\anaconda3\\lib\\site-packages\\ipykernel\\kernelbase.py\", line 648, in execute_request\n      reply_content = await reply_content\n    File \"C:\\Users\\jaymi\\anaconda3\\lib\\site-packages\\ipykernel\\ipkernel.py\", line 353, in do_execute\n      res = shell.run_cell(code, store_history=store_history, silent=silent)\n    File \"C:\\Users\\jaymi\\anaconda3\\lib\\site-packages\\ipykernel\\zmqshell.py\", line 533, in run_cell\n      return super(ZMQInteractiveShell, self).run_cell(*args, **kwargs)\n    File \"C:\\Users\\jaymi\\anaconda3\\lib\\site-packages\\IPython\\core\\interactiveshell.py\", line 2901, in run_cell\n      result = self._run_cell(\n    File \"C:\\Users\\jaymi\\anaconda3\\lib\\site-packages\\IPython\\core\\interactiveshell.py\", line 2947, in _run_cell\n      return runner(coro)\n    File \"C:\\Users\\jaymi\\anaconda3\\lib\\site-packages\\IPython\\core\\async_helpers.py\", line 68, in _pseudo_sync_runner\n      coro.send(None)\n    File \"C:\\Users\\jaymi\\anaconda3\\lib\\site-packages\\IPython\\core\\interactiveshell.py\", line 3172, in run_cell_async\n      has_raised = await self.run_ast_nodes(code_ast.body, cell_name,\n    File \"C:\\Users\\jaymi\\anaconda3\\lib\\site-packages\\IPython\\core\\interactiveshell.py\", line 3364, in run_ast_nodes\n      if (await self.run_code(code, result,  async_=asy)):\n    File \"C:\\Users\\jaymi\\anaconda3\\lib\\site-packages\\IPython\\core\\interactiveshell.py\", line 3444, in run_code\n      exec(code_obj, self.user_global_ns, self.user_ns)\n    File \"C:\\Users\\jaymi\\AppData\\Local\\Temp/ipykernel_15608/491815658.py\", line 1, in <module>\n      dl_predict_game('Gonzaga', 'Baylor')\n    File \"C:\\Users\\jaymi\\AppData\\Local\\Temp/ipykernel_15608/2526544572.py\", line 20, in dl_predict_game\n      prediction = (deep_model.predict(game_df)).astype(float)\n    File \"C:\\Users\\jaymi\\anaconda3\\lib\\site-packages\\keras\\utils\\traceback_utils.py\", line 64, in error_handler\n      return fn(*args, **kwargs)\n    File \"C:\\Users\\jaymi\\anaconda3\\lib\\site-packages\\keras\\engine\\training.py\", line 1982, in predict\n      tmp_batch_outputs = self.predict_function(iterator)\n    File \"C:\\Users\\jaymi\\anaconda3\\lib\\site-packages\\keras\\engine\\training.py\", line 1801, in predict_function\n      return step_function(self, iterator)\n    File \"C:\\Users\\jaymi\\anaconda3\\lib\\site-packages\\keras\\engine\\training.py\", line 1790, in step_function\n      outputs = model.distribute_strategy.run(run_step, args=(data,))\n    File \"C:\\Users\\jaymi\\anaconda3\\lib\\site-packages\\keras\\engine\\training.py\", line 1783, in run_step\n      outputs = model.predict_step(data)\n    File \"C:\\Users\\jaymi\\anaconda3\\lib\\site-packages\\keras\\engine\\training.py\", line 1751, in predict_step\n      return self(x, training=False)\n    File \"C:\\Users\\jaymi\\anaconda3\\lib\\site-packages\\keras\\utils\\traceback_utils.py\", line 64, in error_handler\n      return fn(*args, **kwargs)\n    File \"C:\\Users\\jaymi\\anaconda3\\lib\\site-packages\\keras\\engine\\base_layer.py\", line 1096, in __call__\n      outputs = call_fn(inputs, *args, **kwargs)\n    File \"C:\\Users\\jaymi\\anaconda3\\lib\\site-packages\\keras\\utils\\traceback_utils.py\", line 92, in error_handler\n      return fn(*args, **kwargs)\n    File \"C:\\Users\\jaymi\\anaconda3\\lib\\site-packages\\keras\\engine\\sequential.py\", line 374, in call\n      return super(Sequential, self).call(inputs, training=training, mask=mask)\n    File \"C:\\Users\\jaymi\\anaconda3\\lib\\site-packages\\keras\\engine\\functional.py\", line 451, in call\n      return self._run_internal_graph(\n    File \"C:\\Users\\jaymi\\anaconda3\\lib\\site-packages\\keras\\engine\\functional.py\", line 571, in _run_internal_graph\n      y = self._conform_to_reference_input(y, ref_input=x)\n    File \"C:\\Users\\jaymi\\anaconda3\\lib\\site-packages\\keras\\engine\\functional.py\", line 671, in _conform_to_reference_input\n      tensor = tf.cast(tensor, dtype=ref_input.dtype)\nNode: 'sequential/Cast'\nCast string to float is not supported\n\t [[{{node sequential/Cast}}]] [Op:__inference_predict_function_43263]"
     ]
    }
   ],
   "source": [
    "dl_predict_game('Gonzaga', 'Baylor')"
   ]
  }
 ],
 "metadata": {
  "kernelspec": {
   "display_name": "Python 3 (ipykernel)",
   "language": "python",
   "name": "python3"
  },
  "language_info": {
   "codemirror_mode": {
    "name": "ipython",
    "version": 3
   },
   "file_extension": ".py",
   "mimetype": "text/x-python",
   "name": "python",
   "nbconvert_exporter": "python",
   "pygments_lexer": "ipython3",
   "version": "3.9.7"
  }
 },
 "nbformat": 4,
 "nbformat_minor": 5
}
