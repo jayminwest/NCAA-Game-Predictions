{
 "cells": [
  {
   "cell_type": "markdown",
   "id": "c66a66b9",
   "metadata": {},
   "source": [
    "<h1>Importing and opening the file:</h1>"
   ]
  },
  {
   "cell_type": "code",
   "execution_count": 13,
   "id": "32f93d3a",
   "metadata": {},
   "outputs": [],
   "source": [
    "import matplotlib.pyplot as plt\n",
    "import pandas as pd\n",
    "import numpy as np\n",
    "# ! pip install kenpompy\n",
    "import kenpompy \n",
    "import kenpompy.summary as kp"
   ]
  },
  {
   "cell_type": "code",
   "execution_count": 10,
   "id": "31c68679",
   "metadata": {},
   "outputs": [],
   "source": [
    "# Logging into kenpom\n",
    "from kenpompy.utils import login\n",
    "browser = login(\"jayminwest@gmail.com\", \"GomfnZags\")"
   ]
  },
  {
   "cell_type": "code",
   "execution_count": 20,
   "id": "0cb40a47",
   "metadata": {},
   "outputs": [
    {
     "ename": "IndexError",
     "evalue": "list index out of range",
     "output_type": "error",
     "traceback": [
      "\u001b[1;31m---------------------------------------------------------------------------\u001b[0m",
      "\u001b[1;31mIndexError\u001b[0m                                Traceback (most recent call last)",
      "\u001b[1;32m~\\AppData\\Local\\Temp/ipykernel_17008/1020045674.py\u001b[0m in \u001b[0;36m<module>\u001b[1;34m\u001b[0m\n\u001b[0;32m      1\u001b[0m \u001b[1;32mimport\u001b[0m \u001b[0mkenpompy\u001b[0m\u001b[1;33m.\u001b[0m\u001b[0msummary\u001b[0m \u001b[1;32mas\u001b[0m \u001b[0mkp\u001b[0m\u001b[1;33m\u001b[0m\u001b[1;33m\u001b[0m\u001b[0m\n\u001b[1;32m----> 2\u001b[1;33m \u001b[0meff_stats\u001b[0m \u001b[1;33m=\u001b[0m \u001b[0mkp\u001b[0m\u001b[1;33m.\u001b[0m\u001b[0mget_efficiency\u001b[0m\u001b[1;33m(\u001b[0m\u001b[0mbrowser\u001b[0m\u001b[1;33m,\u001b[0m \u001b[0mseason\u001b[0m\u001b[1;33m=\u001b[0m\u001b[1;32mNone\u001b[0m\u001b[1;33m)\u001b[0m\u001b[1;33m\u001b[0m\u001b[1;33m\u001b[0m\u001b[0m\n\u001b[0m",
      "\u001b[1;32m~\\anaconda3\\lib\\site-packages\\kenpompy\\summary.py\u001b[0m in \u001b[0;36mget_efficiency\u001b[1;34m(browser, season)\u001b[0m\n\u001b[0;32m     37\u001b[0m         \u001b[0mbrowser\u001b[0m\u001b[1;33m.\u001b[0m\u001b[0mopen\u001b[0m\u001b[1;33m(\u001b[0m\u001b[0murl\u001b[0m\u001b[1;33m)\u001b[0m\u001b[1;33m\u001b[0m\u001b[1;33m\u001b[0m\u001b[0m\n\u001b[0;32m     38\u001b[0m         \u001b[0meff\u001b[0m \u001b[1;33m=\u001b[0m \u001b[0mbrowser\u001b[0m\u001b[1;33m.\u001b[0m\u001b[0mget_current_page\u001b[0m\u001b[1;33m(\u001b[0m\u001b[1;33m)\u001b[0m\u001b[1;33m\u001b[0m\u001b[1;33m\u001b[0m\u001b[0m\n\u001b[1;32m---> 39\u001b[1;33m         \u001b[0mtable\u001b[0m \u001b[1;33m=\u001b[0m \u001b[0meff\u001b[0m\u001b[1;33m.\u001b[0m\u001b[0mfind_all\u001b[0m\u001b[1;33m(\u001b[0m\u001b[1;34m'table'\u001b[0m\u001b[1;33m)\u001b[0m\u001b[1;33m[\u001b[0m\u001b[1;36m0\u001b[0m\u001b[1;33m]\u001b[0m\u001b[1;33m\u001b[0m\u001b[1;33m\u001b[0m\u001b[0m\n\u001b[0m\u001b[0;32m     40\u001b[0m         \u001b[0meff_df\u001b[0m \u001b[1;33m=\u001b[0m \u001b[0mpd\u001b[0m\u001b[1;33m.\u001b[0m\u001b[0mread_html\u001b[0m\u001b[1;33m(\u001b[0m\u001b[0mstr\u001b[0m\u001b[1;33m(\u001b[0m\u001b[0mtable\u001b[0m\u001b[1;33m)\u001b[0m\u001b[1;33m)\u001b[0m\u001b[1;33m\u001b[0m\u001b[1;33m\u001b[0m\u001b[0m\n\u001b[0;32m     41\u001b[0m \u001b[1;33m\u001b[0m\u001b[0m\n",
      "\u001b[1;31mIndexError\u001b[0m: list index out of range"
     ]
    }
   ],
   "source": [
    "import kenpompy.summary as kp\n",
    "eff_stats = kp.get_efficiency(browser)"
   ]
  },
  {
   "cell_type": "markdown",
   "id": "f57ccdb0",
   "metadata": {},
   "source": [
    "Cleaning up the data:"
   ]
  },
  {
   "cell_type": "code",
   "execution_count": 87,
   "id": "4bdfbddc",
   "metadata": {},
   "outputs": [
    {
     "data": {
      "text/html": [
       "<div>\n",
       "<style scoped>\n",
       "    .dataframe tbody tr th:only-of-type {\n",
       "        vertical-align: middle;\n",
       "    }\n",
       "\n",
       "    .dataframe tbody tr th {\n",
       "        vertical-align: top;\n",
       "    }\n",
       "\n",
       "    .dataframe thead th {\n",
       "        text-align: right;\n",
       "    }\n",
       "</style>\n",
       "<table border=\"1\" class=\"dataframe\">\n",
       "  <thead>\n",
       "    <tr style=\"text-align: right;\">\n",
       "      <th></th>\n",
       "      <th>TeamName</th>\n",
       "      <th>Tempo</th>\n",
       "      <th>AdjTempo</th>\n",
       "      <th>OE</th>\n",
       "      <th>AdjOE</th>\n",
       "      <th>DE</th>\n",
       "      <th>AdjDE</th>\n",
       "      <th>AdjEM</th>\n",
       "    </tr>\n",
       "  </thead>\n",
       "  <tbody>\n",
       "    <tr>\n",
       "      <th>103</th>\n",
       "      <td>Gonzaga</td>\n",
       "      <td>74.5647</td>\n",
       "      <td>73.4672</td>\n",
       "      <td>120.643</td>\n",
       "      <td>123.303</td>\n",
       "      <td>88.4984</td>\n",
       "      <td>91.5119</td>\n",
       "      <td>31.7907</td>\n",
       "    </tr>\n",
       "    <tr>\n",
       "      <th>19</th>\n",
       "      <td>Baylor</td>\n",
       "      <td>68.9844</td>\n",
       "      <td>67.6826</td>\n",
       "      <td>113.780</td>\n",
       "      <td>119.204</td>\n",
       "      <td>86.3335</td>\n",
       "      <td>88.7268</td>\n",
       "      <td>30.4769</td>\n",
       "    </tr>\n",
       "    <tr>\n",
       "      <th>10</th>\n",
       "      <td>Arizona</td>\n",
       "      <td>74.6272</td>\n",
       "      <td>73.8093</td>\n",
       "      <td>115.916</td>\n",
       "      <td>116.990</td>\n",
       "      <td>86.4411</td>\n",
       "      <td>88.5084</td>\n",
       "      <td>28.4821</td>\n",
       "    </tr>\n",
       "    <tr>\n",
       "      <th>114</th>\n",
       "      <td>Houston</td>\n",
       "      <td>65.7814</td>\n",
       "      <td>65.2653</td>\n",
       "      <td>117.119</td>\n",
       "      <td>118.123</td>\n",
       "      <td>85.6353</td>\n",
       "      <td>90.6992</td>\n",
       "      <td>27.4239</td>\n",
       "    </tr>\n",
       "    <tr>\n",
       "      <th>334</th>\n",
       "      <td>Villanova</td>\n",
       "      <td>63.0065</td>\n",
       "      <td>61.0688</td>\n",
       "      <td>114.317</td>\n",
       "      <td>118.486</td>\n",
       "      <td>94.3067</td>\n",
       "      <td>91.1116</td>\n",
       "      <td>27.3746</td>\n",
       "    </tr>\n",
       "    <tr>\n",
       "      <th>237</th>\n",
       "      <td>Purdue</td>\n",
       "      <td>67.6682</td>\n",
       "      <td>66.8796</td>\n",
       "      <td>123.146</td>\n",
       "      <td>124.144</td>\n",
       "      <td>97.6983</td>\n",
       "      <td>97.5395</td>\n",
       "      <td>26.6048</td>\n",
       "    </tr>\n",
       "    <tr>\n",
       "      <th>137</th>\n",
       "      <td>Kentucky</td>\n",
       "      <td>70.2077</td>\n",
       "      <td>68.7269</td>\n",
       "      <td>116.417</td>\n",
       "      <td>119.835</td>\n",
       "      <td>91.4765</td>\n",
       "      <td>93.3427</td>\n",
       "      <td>26.4923</td>\n",
       "    </tr>\n",
       "    <tr>\n",
       "      <th>16</th>\n",
       "      <td>Auburn</td>\n",
       "      <td>70.7211</td>\n",
       "      <td>69.3001</td>\n",
       "      <td>110.589</td>\n",
       "      <td>115.966</td>\n",
       "      <td>90.7246</td>\n",
       "      <td>89.7365</td>\n",
       "      <td>26.2299</td>\n",
       "    </tr>\n",
       "    <tr>\n",
       "      <th>133</th>\n",
       "      <td>Kansas</td>\n",
       "      <td>70.0189</td>\n",
       "      <td>69.3530</td>\n",
       "      <td>114.798</td>\n",
       "      <td>121.925</td>\n",
       "      <td>95.9015</td>\n",
       "      <td>95.9793</td>\n",
       "      <td>25.9458</td>\n",
       "    </tr>\n",
       "    <tr>\n",
       "      <th>313</th>\n",
       "      <td>UCLA</td>\n",
       "      <td>68.6978</td>\n",
       "      <td>67.1340</td>\n",
       "      <td>112.351</td>\n",
       "      <td>115.439</td>\n",
       "      <td>93.9997</td>\n",
       "      <td>91.0515</td>\n",
       "      <td>24.3878</td>\n",
       "    </tr>\n",
       "  </tbody>\n",
       "</table>\n",
       "</div>"
      ],
      "text/plain": [
       "      TeamName    Tempo  AdjTempo       OE    AdjOE       DE    AdjDE    AdjEM\n",
       "103    Gonzaga  74.5647   73.4672  120.643  123.303  88.4984  91.5119  31.7907\n",
       "19      Baylor  68.9844   67.6826  113.780  119.204  86.3335  88.7268  30.4769\n",
       "10     Arizona  74.6272   73.8093  115.916  116.990  86.4411  88.5084  28.4821\n",
       "114    Houston  65.7814   65.2653  117.119  118.123  85.6353  90.6992  27.4239\n",
       "334  Villanova  63.0065   61.0688  114.317  118.486  94.3067  91.1116  27.3746\n",
       "237     Purdue  67.6682   66.8796  123.146  124.144  97.6983  97.5395  26.6048\n",
       "137   Kentucky  70.2077   68.7269  116.417  119.835  91.4765  93.3427  26.4923\n",
       "16      Auburn  70.7211   69.3001  110.589  115.966  90.7246  89.7365  26.2299\n",
       "133     Kansas  70.0189   69.3530  114.798  121.925  95.9015  95.9793  25.9458\n",
       "313       UCLA  68.6978   67.1340  112.351  115.439  93.9997  91.0515  24.3878"
      ]
     },
     "execution_count": 87,
     "metadata": {},
     "output_type": "execute_result"
    }
   ],
   "source": [
    "data = pd.read_csv('./summary22.csv')\n",
    "\n",
    "data = data.sort_values(by='AdjEM', ascending=False)\n",
    "\n",
    "# Dropping the season col since it is the same for all teams:\n",
    "data = data.drop('Season', axis=1)\n",
    "\n",
    "# Dropping all of the columns that have \"rank\" in them\n",
    "data = data[data.columns.drop(list(data.filter(regex='Rank')))]\n",
    "\n",
    "data = data.head(10)"
   ]
  },
  {
   "cell_type": "markdown",
   "id": "9be624ae",
   "metadata": {},
   "source": [
    "Creating a chart to display the data:"
   ]
  },
  {
   "cell_type": "code",
   "execution_count": 90,
   "id": "1b625213",
   "metadata": {},
   "outputs": [
    {
     "data": {
      "image/png": "[encoded data removed]",
      "text/plain": [
       "<Figure size 432x288 with 1 Axes>"
      ]
     },
     "metadata": {
      "needs_background": "light"
     },
     "output_type": "display_data"
    }
   ],
   "source": [
    "plt.scatter(\n",
    "    data['Tempo'], # X axis\n",
    "    data['DE'], # Y axis\n",
    "    data['AdjEM']*5, # Size\n",
    "    data['AdjEM']*2, # Color\n",
    "    cmap = \"jet\" # Color map\n",
    ")\n",
    "\n",
    "plt.xlabel('Tempo')\n",
    "plt.ylabel('DE')\n",
    "plt.show()"
   ]
  }
 ],
 "metadata": {
  "kernelspec": {
   "display_name": "Python 3 (ipykernel)",
   "language": "python",
   "name": "python3"
  },
  "language_info": {
   "codemirror_mode": {
    "name": "ipython",
    "version": 3
   },
   "file_extension": ".py",
   "mimetype": "text/x-python",
   "name": "python",
   "nbconvert_exporter": "python",
   "pygments_lexer": "ipython3",
   "version": "3.9.7"
  }
 },
 "nbformat": 4,
 "nbformat_minor": 5
}
